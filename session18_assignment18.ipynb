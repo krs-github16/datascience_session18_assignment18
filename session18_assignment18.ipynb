{
 "cells": [
  {
   "cell_type": "markdown",
   "metadata": {},
   "source": [
    "# Problem Statement 1:\n",
    "Is gender independent of education level? A random sample of 395 people were\n",
    "surveyed and each person was asked to report the highest education level they\n",
    "obtained. The data that resulted from the survey is summarized in the following table:\n",
    "\n",
    "High School Bachelors Masters Ph.d. Total\n",
    "\n",
    "Female 60 54 46 41 201\n",
    "\n",
    "Male 40 44 53 57 194\n",
    "\n",
    "Total 100 98 99 98 395\n",
    "\n",
    "\n",
    "Question: Are gender and education level dependent at 5% level of significance? In\n",
    "other words, given the data collected above, is there a relationship between the gender\n",
    "of an individual and the level of education that they have obtained?"
   ]
  },
  {
   "cell_type": "markdown",
   "metadata": {},
   "source": [
    "Null Hypothesis\n",
    "\n",
    "    The two categorical variables are independent\n",
    "\n",
    "Alternative Hypothesis\n",
    "\n",
    "    The two categorical variables are dependent\n",
    "\n",
    "\n",
    "Chi-Square Test Statistic\n",
    "\n",
    "χ2=∑(O−E)^2/E\n",
    "    \n",
    "    where O represents the observed frequency. E is the expected frequency under the null hypothesis and computed by:\n",
    " \n",
    "E=(row total×column total)/sample size\n",
    "\n",
    "\n",
    "Here's the table of expected counts:\n",
    "\n",
    " \tHigh School\t Bachelors\tMasters\tPh.d.\tTotal\n",
    "    \n",
    "Female\t50.886\t   49.868\t   50.377\t   49.868\t   201\n",
    "\n",
    "Male\t49.114\t   48.132\t   48.623\t   48.132\t  194\n",
    "\n",
    "Total\t100\t   98\t   99\t   98\t  395\n",
    "\n",
    "\n",
    "# The critical value of χ2 with 3 degree of freedom is 7.815. Since 8.006 > 7.815, therefore we reject the null hypothesis and conclude that the education level depends on gender at a 5% level of significance."
   ]
  },
  {
   "cell_type": "markdown",
   "metadata": {},
   "source": [
    "# Problem Statement 2:\n",
    "Using the following data, perform a oneway analysis of variance using α=.05. Write up\n",
    "the results in APA format."
   ]
  },
  {
   "cell_type": "code",
   "execution_count": 10,
   "metadata": {},
   "outputs": [
    {
     "name": "stdout",
     "output_type": "stream",
     "text": [
      "\n",
      "F_teststatistic:9.75\n",
      "\n",
      "F_critical:3.89\n",
      "\n",
      "Decision:Reject H0\n"
     ]
    }
   ],
   "source": [
    "import math\n",
    "from __future__ import division\n",
    "from collections import Counter\n",
    "g1=[51,45,33,45,67]\n",
    "g2=[23,43,23,43,45]\n",
    "g3=[56,76,74,87,56]\n",
    "\n",
    "\n",
    "def mean(x):\n",
    "    return sum(x) / len(x)\n",
    "\n",
    "def variance(x):\n",
    "    n = len(x)\n",
    "    x_bar = mean(x)\n",
    "    return(round(sum((x_i - x_bar)**2 for x_i in x) / (n - 1), 2))\n",
    "\n",
    "g1_mean=mean(g1)\n",
    "g2_mean=mean(g2)\n",
    "g3_mean=mean(g3)\n",
    "\n",
    "g1_var=variance(g1)\n",
    "g2_var=variance(g2)\n",
    "g3_var=variance(g3)\n",
    "\n",
    "ms_error=(g1_var+g2_var+g3_var)/3\n",
    "\n",
    "df_error=15-3\n",
    "\n",
    "ss_error=ms_error*df_error\n",
    "\n",
    "g_means=[g1_mean,g2_mean,g3_mean]\n",
    "\n",
    "g_grandmean=mean(g_means)\n",
    "\n",
    "g_grandvar=variance(g_means)\n",
    "\n",
    "ms_between=g_grandvar*5\n",
    "\n",
    "df_groups=3-1\n",
    "\n",
    "ss_groups=ms_between*df_groups\n",
    "\n",
    "F_teststatistic=round(ms_between/ms_error,2)\n",
    "\n",
    "print(\"\\nF_teststatistic:{}\".format(F_teststatistic))\n",
    "\n",
    "F_critical=3.89 # for (2,12)\n",
    "\n",
    "\n",
    "\n",
    "print(\"\\nF_critical:{}\".format(F_critical))\n",
    "\n",
    "\n",
    "APA writeup\n",
    "\n",
    "F(2, 12)=9.75, p <0.05, η2=0.62\n",
    "\n",
    "\n",
    "if F_teststatistic>F_critical:\n",
    "    print(\"\\n Decision:Reject H0\")\n",
    "else:\n",
    "    print(\"\\n No sufficient inference to reject H0\")\n",
    "    "
   ]
  },
  {
   "cell_type": "markdown",
   "metadata": {},
   "source": [
    "# Problem Statement 3:\n",
    "\n",
    "Calculate F Test for given 10, 20, 30, 40, 50 and 5,10,15, 20, 25."
   ]
  },
  {
   "cell_type": "code",
   "execution_count": 12,
   "metadata": {},
   "outputs": [
    {
     "name": "stdout",
     "output_type": "stream",
     "text": [
      "calculated F value: 4.0\n"
     ]
    }
   ],
   "source": [
    "g1=[10,20,30,40,50]\n",
    "\n",
    "g2=[5,10,15,20,25]\n",
    "\n",
    "\n",
    "def mean(x):\n",
    "    return sum(x) / len(x)\n",
    "\n",
    "def variance(x):\n",
    "    n = len(x)\n",
    "    x_bar = mean(x)\n",
    "    return(round(sum((x_i - x_bar)**2 for x_i in x) / (n - 1), 2))\n",
    "\n",
    "\n",
    "g1_var=variance(g1) # variance \n",
    "\n",
    "g2_var=variance(g2)\n",
    "\n",
    "F_value=g1_var/g2_var\n",
    "\n",
    "print(\"calculated F value: {}\".format(F_value))\n"
   ]
  },
  {
   "cell_type": "code",
   "execution_count": 13,
   "metadata": {},
   "outputs": [
    {
     "name": "stdout",
     "output_type": "stream",
     "text": [
      "End of assignment\n"
     ]
    }
   ],
   "source": [
    "print(\"End of assignment\")"
   ]
  },
  {
   "cell_type": "code",
   "execution_count": null,
   "metadata": {},
   "outputs": [],
   "source": []
  }
 ],
 "metadata": {
  "kernelspec": {
   "display_name": "Python 3",
   "language": "python",
   "name": "python3"
  },
  "language_info": {
   "codemirror_mode": {
    "name": "ipython",
    "version": 3
   },
   "file_extension": ".py",
   "mimetype": "text/x-python",
   "name": "python",
   "nbconvert_exporter": "python",
   "pygments_lexer": "ipython3",
   "version": "3.6.5"
  }
 },
 "nbformat": 4,
 "nbformat_minor": 2
}
